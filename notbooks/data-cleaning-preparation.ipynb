{
 "cells": [
  {
   "cell_type": "markdown",
   "metadata": {},
   "source": [
    "# Data Cleaning and Preprocessing"
   ]
  },
  {
   "cell_type": "code",
   "execution_count": 1,
   "metadata": {},
   "outputs": [],
   "source": [
    "import sys\n",
    "import os"
   ]
  },
  {
   "cell_type": "markdown",
   "metadata": {},
   "source": [
    "## Import Functions"
   ]
  },
  {
   "cell_type": "code",
   "execution_count": 2,
   "metadata": {},
   "outputs": [],
   "source": [
    "import sys\n",
    "sys.path.append('../scripts')\n",
    "\n",
    "from data_preparation_utills.data_preprocessor import *"
   ]
  },
  {
   "cell_type": "markdown",
   "metadata": {},
   "source": [
    "## Convert Text File To DataFrame"
   ]
  },
  {
   "cell_type": "code",
   "execution_count": 17,
   "metadata": {},
   "outputs": [
    {
     "name": "stdout",
     "output_type": "stream",
     "text": [
      "  UnderwrittenCoverID|PolicyID|TransactionMonth|IsVATRegistered|Citizenship|LegalType|Title|Language|Bank|AccountType|MaritalStatus|Gender|Country|Province|PostalCode|MainCrestaZone|SubCrestaZone|ItemType|mmcode|VehicleType|RegistrationYear|make|Model|Cylinders|cubiccapacity|kilowatts|bodytype|NumberOfDoors|VehicleIntroDate|CustomValueEstimate|AlarmImmobiliser|TrackingDevice|CapitalOutstanding|NewVehicle|WrittenOff|Rebuilt|Converted|CrossBorder|NumberOfVehiclesInFleet|SumInsured|TermFrequency|CalculatedPremiumPerTerm|ExcessSelected|CoverCategory|CoverType|CoverGroup|Section|Product|StatutoryClass|StatutoryRiskType|TotalPremium|TotalClaims\n",
      "0  145249|12827|2015-03-01 00:00:00|True|  |Close...                                                                                                                                                                                                                                                                                                                                                                                                                                                                                                                                                                                                                  \n",
      "1  145249|12827|2015-05-01 00:00:00|True|  |Close...                                                                                                                                                                                                                                                                                                                                                                                                                                                                                                                                                                                                                  \n",
      "2  145249|12827|2015-07-01 00:00:00|True|  |Close...                                                                                                                                                                                                                                                                                                                                                                                                                                                                                                                                                                                                                  \n",
      "3  145255|12827|2015-05-01 00:00:00|True|  |Close...                                                                                                                                                                                                                                                                                                                                                                                                                                                                                                                                                                                                                  \n",
      "4  145255|12827|2015-07-01 00:00:00|True|  |Close...                                                                                                                                                                                                                                                                                                                                                                                                                                                                                                                                                                                                                  \n",
      "5  145247|12827|2015-01-01 00:00:00|True|  |Close...                                                                                                                                                                                                                                                                                                                                                                                                                                                                                                                                                                                                                  \n",
      "6  145247|12827|2015-04-01 00:00:00|True|  |Close...                                                                                                                                                                                                                                                                                                                                                                                                                                                                                                                                                                                                                  \n",
      "7  145247|12827|2015-06-01 00:00:00|True|  |Close...                                                                                                                                                                                                                                                                                                                                                                                                                                                                                                                                                                                                                  \n",
      "8  145247|12827|2015-08-01 00:00:00|True|  |Close...                                                                                                                                                                                                                                                                                                                                                                                                                                                                                                                                                                                                                  \n",
      "9  145245|12827|2015-03-01 00:00:00|True|  |Close...                                                                                                                                                                                                                                                                                                                                                                                                                                                                                                                                                                                                                  \n"
     ]
    }
   ],
   "source": [
    "import pandas as pd\n",
    "\n",
    "# Path to the .txt file in your local_storage\n",
    "txt_file_path = r'C:\\Users\\user\\Desktop\\Git_Folder\\AlphaCare-Insurance-Solutions-ACIS\\local_storage\\MachineLearningRating_v3_data_week3\\MachineLearningRating_v3_data_week3.txt'\n",
    "\n",
    "# Load the .txt file (assume it's tab-delimited, adjust delimiter as needed)\n",
    "df = pd.read_csv(txt_file_path, delimiter=\"\\t\")  # Change delimiter if needed (e.g., \",\" for CSV)\n",
    "\n",
    "# Save the dataframe to a CSV file\n",
    "csv_file_path = r'C:\\Users\\user\\Desktop\\Git_Folder\\AlphaCare-Insurance-Solutions-ACIS\\local_storage\\MachineLearningRating_v3_data_week3\\converted_file.csv'\n",
    "df.to_csv(csv_file_path, index=False)\n",
    "\n",
    "# Display the first few rows to verify\n",
    "print(df.head(10))\n"
   ]
  },
  {
   "cell_type": "code",
   "execution_count": 18,
   "metadata": {},
   "outputs": [
    {
     "name": "stderr",
     "output_type": "stream",
     "text": [
      "C:\\Users\\user\\AppData\\Local\\Temp\\ipykernel_9916\\64735921.py:7: DtypeWarning: Columns (32,37) have mixed types. Specify dtype option on import or set low_memory=False.\n",
      "  df = pd.read_csv(txt_file_path, delimiter='|')\n"
     ]
    },
    {
     "name": "stdout",
     "output_type": "stream",
     "text": [
      "   UnderwrittenCoverID  PolicyID     TransactionMonth  IsVATRegistered  \\\n",
      "0               145249     12827  2015-03-01 00:00:00             True   \n",
      "1               145249     12827  2015-05-01 00:00:00             True   \n",
      "2               145249     12827  2015-07-01 00:00:00             True   \n",
      "3               145255     12827  2015-05-01 00:00:00             True   \n",
      "4               145255     12827  2015-07-01 00:00:00             True   \n",
      "5               145247     12827  2015-01-01 00:00:00             True   \n",
      "6               145247     12827  2015-04-01 00:00:00             True   \n",
      "7               145247     12827  2015-06-01 00:00:00             True   \n",
      "8               145247     12827  2015-08-01 00:00:00             True   \n",
      "9               145245     12827  2015-03-01 00:00:00             True   \n",
      "\n",
      "  Citizenship          LegalType Title Language                 Bank  \\\n",
      "0              Close Corporation    Mr  English  First National Bank   \n",
      "1              Close Corporation    Mr  English  First National Bank   \n",
      "2              Close Corporation    Mr  English  First National Bank   \n",
      "3              Close Corporation    Mr  English  First National Bank   \n",
      "4              Close Corporation    Mr  English  First National Bank   \n",
      "5              Close Corporation    Mr  English  First National Bank   \n",
      "6              Close Corporation    Mr  English  First National Bank   \n",
      "7              Close Corporation    Mr  English  First National Bank   \n",
      "8              Close Corporation    Mr  English  First National Bank   \n",
      "9              Close Corporation    Mr  English  First National Bank   \n",
      "\n",
      "       AccountType  ...                    ExcessSelected  \\\n",
      "0  Current account  ...             Mobility - Windscreen   \n",
      "1  Current account  ...             Mobility - Windscreen   \n",
      "2  Current account  ...             Mobility - Windscreen   \n",
      "3  Current account  ...  Mobility - Metered Taxis - R2000   \n",
      "4  Current account  ...  Mobility - Metered Taxis - R2000   \n",
      "5  Current account  ...                         No excess   \n",
      "6  Current account  ...                         No excess   \n",
      "7  Current account  ...                         No excess   \n",
      "8  Current account  ...                         No excess   \n",
      "9  Current account  ...                         No excess   \n",
      "\n",
      "         CoverCategory            CoverType            CoverGroup  \\\n",
      "0           Windscreen           Windscreen  Comprehensive - Taxi   \n",
      "1           Windscreen           Windscreen  Comprehensive - Taxi   \n",
      "2           Windscreen           Windscreen  Comprehensive - Taxi   \n",
      "3           Own damage           Own Damage  Comprehensive - Taxi   \n",
      "4           Own damage           Own Damage  Comprehensive - Taxi   \n",
      "5          Third Party          Third Party  Comprehensive - Taxi   \n",
      "6          Third Party          Third Party  Comprehensive - Taxi   \n",
      "7          Third Party          Third Party  Comprehensive - Taxi   \n",
      "8          Third Party          Third Party  Comprehensive - Taxi   \n",
      "9  Passenger Liability  Passenger Liability  Comprehensive - Taxi   \n",
      "\n",
      "               Section                          Product StatutoryClass  \\\n",
      "0  Motor Comprehensive  Mobility Metered Taxis: Monthly     Commercial   \n",
      "1  Motor Comprehensive  Mobility Metered Taxis: Monthly     Commercial   \n",
      "2  Motor Comprehensive  Mobility Metered Taxis: Monthly     Commercial   \n",
      "3  Motor Comprehensive  Mobility Metered Taxis: Monthly     Commercial   \n",
      "4  Motor Comprehensive  Mobility Metered Taxis: Monthly     Commercial   \n",
      "5  Motor Comprehensive  Mobility Metered Taxis: Monthly     Commercial   \n",
      "6  Motor Comprehensive  Mobility Metered Taxis: Monthly     Commercial   \n",
      "7  Motor Comprehensive  Mobility Metered Taxis: Monthly     Commercial   \n",
      "8  Motor Comprehensive  Mobility Metered Taxis: Monthly     Commercial   \n",
      "9  Motor Comprehensive  Mobility Metered Taxis: Monthly     Commercial   \n",
      "\n",
      "  StatutoryRiskType  TotalPremium TotalClaims  \n",
      "0     IFRS Constant     21.929825         0.0  \n",
      "1     IFRS Constant     21.929825         0.0  \n",
      "2     IFRS Constant      0.000000         0.0  \n",
      "3     IFRS Constant    512.848070         0.0  \n",
      "4     IFRS Constant      0.000000         0.0  \n",
      "5     IFRS Constant      3.256435         0.0  \n",
      "6     IFRS Constant     50.474737         0.0  \n",
      "7     IFRS Constant     35.332316         0.0  \n",
      "8     IFRS Constant      0.000000         0.0  \n",
      "9     IFRS Constant      1.009474         0.0  \n",
      "\n",
      "[10 rows x 52 columns]\n"
     ]
    }
   ],
   "source": [
    "import pandas as pd\n",
    "\n",
    "# Path to the .txt file in your local_storage\n",
    "txt_file_path = r'C:\\Users\\user\\Desktop\\Git_Folder\\AlphaCare-Insurance-Solutions-ACIS\\local_storage\\MachineLearningRating_v3_data_week3\\MachineLearningRating_v3_data_week3.txt'\n",
    "\n",
    "# Load the .txt file (using '|' as the delimiter)\n",
    "df = pd.read_csv(txt_file_path, delimiter='|')\n",
    "\n",
    "# Save the dataframe to a CSV file\n",
    "csv_file_path = r'C:\\Users\\user\\Desktop\\Git_Folder\\AlphaCare-Insurance-Solutions-ACIS\\local_storage\\MachineLearningRating_v3_data_week3\\converted_file.csv'\n",
    "df.to_csv(csv_file_path, index=False)\n",
    "\n",
    "# Display the first few rows to verify\n",
    "print(df.head(10))\n"
   ]
  },
  {
   "cell_type": "code",
   "execution_count": 14,
   "metadata": {},
   "outputs": [
    {
     "name": "stdout",
     "output_type": "stream",
     "text": [
      "Error: [Errno 2] No such file or directory: '..\\\\local_storage\\\\MachineLearningRating_v3'. The dataset file was not found.\n"
     ]
    }
   ],
   "source": [
    "# path to the TXT file\n",
    "filename = 'MachineLearningRating_v3.txt'\n",
    "path = os.path.join('..', 'local_storage', filename)\n",
    "raw_dataset = text_to_dataframe(path)"
   ]
  },
  {
   "cell_type": "code",
   "execution_count": 5,
   "metadata": {},
   "outputs": [
    {
     "ename": "AttributeError",
     "evalue": "'NoneType' object has no attribute 'head'",
     "output_type": "error",
     "traceback": [
      "\u001b[1;31m---------------------------------------------------------------------------\u001b[0m",
      "\u001b[1;31mAttributeError\u001b[0m                            Traceback (most recent call last)",
      "Cell \u001b[1;32mIn[5], line 1\u001b[0m\n\u001b[1;32m----> 1\u001b[0m display(\u001b[43mraw_dataset\u001b[49m\u001b[38;5;241;43m.\u001b[39;49m\u001b[43mhead\u001b[49m(\u001b[38;5;241m10\u001b[39m))\n",
      "\u001b[1;31mAttributeError\u001b[0m: 'NoneType' object has no attribute 'head'"
     ]
    }
   ],
   "source": [
    "display(raw_dataset.head(10))"
   ]
  },
  {
   "cell_type": "markdown",
   "metadata": {},
   "source": [
    "## Save DataFrame as CSV file"
   ]
  },
  {
   "cell_type": "code",
   "execution_count": 21,
   "metadata": {},
   "outputs": [
    {
     "name": "stderr",
     "output_type": "stream",
     "text": [
      "C:\\Users\\user\\AppData\\Local\\Temp\\ipykernel_9916\\3893725865.py:12: DtypeWarning: Columns (32,37) have mixed types. Specify dtype option on import or set low_memory=False.\n",
      "  raw_dataset = pd.read_csv(txt_file_path, delimiter='|')\n"
     ]
    },
    {
     "name": "stdout",
     "output_type": "stream",
     "text": [
      "   UnderwrittenCoverID  PolicyID     TransactionMonth  IsVATRegistered  \\\n",
      "0               145249     12827  2015-03-01 00:00:00             True   \n",
      "1               145249     12827  2015-05-01 00:00:00             True   \n",
      "2               145249     12827  2015-07-01 00:00:00             True   \n",
      "3               145255     12827  2015-05-01 00:00:00             True   \n",
      "4               145255     12827  2015-07-01 00:00:00             True   \n",
      "5               145247     12827  2015-01-01 00:00:00             True   \n",
      "6               145247     12827  2015-04-01 00:00:00             True   \n",
      "7               145247     12827  2015-06-01 00:00:00             True   \n",
      "8               145247     12827  2015-08-01 00:00:00             True   \n",
      "9               145245     12827  2015-03-01 00:00:00             True   \n",
      "\n",
      "  Citizenship          LegalType Title Language                 Bank  \\\n",
      "0              Close Corporation    Mr  English  First National Bank   \n",
      "1              Close Corporation    Mr  English  First National Bank   \n",
      "2              Close Corporation    Mr  English  First National Bank   \n",
      "3              Close Corporation    Mr  English  First National Bank   \n",
      "4              Close Corporation    Mr  English  First National Bank   \n",
      "5              Close Corporation    Mr  English  First National Bank   \n",
      "6              Close Corporation    Mr  English  First National Bank   \n",
      "7              Close Corporation    Mr  English  First National Bank   \n",
      "8              Close Corporation    Mr  English  First National Bank   \n",
      "9              Close Corporation    Mr  English  First National Bank   \n",
      "\n",
      "       AccountType  ...                    ExcessSelected  \\\n",
      "0  Current account  ...             Mobility - Windscreen   \n",
      "1  Current account  ...             Mobility - Windscreen   \n",
      "2  Current account  ...             Mobility - Windscreen   \n",
      "3  Current account  ...  Mobility - Metered Taxis - R2000   \n",
      "4  Current account  ...  Mobility - Metered Taxis - R2000   \n",
      "5  Current account  ...                         No excess   \n",
      "6  Current account  ...                         No excess   \n",
      "7  Current account  ...                         No excess   \n",
      "8  Current account  ...                         No excess   \n",
      "9  Current account  ...                         No excess   \n",
      "\n",
      "         CoverCategory            CoverType            CoverGroup  \\\n",
      "0           Windscreen           Windscreen  Comprehensive - Taxi   \n",
      "1           Windscreen           Windscreen  Comprehensive - Taxi   \n",
      "2           Windscreen           Windscreen  Comprehensive - Taxi   \n",
      "3           Own damage           Own Damage  Comprehensive - Taxi   \n",
      "4           Own damage           Own Damage  Comprehensive - Taxi   \n",
      "5          Third Party          Third Party  Comprehensive - Taxi   \n",
      "6          Third Party          Third Party  Comprehensive - Taxi   \n",
      "7          Third Party          Third Party  Comprehensive - Taxi   \n",
      "8          Third Party          Third Party  Comprehensive - Taxi   \n",
      "9  Passenger Liability  Passenger Liability  Comprehensive - Taxi   \n",
      "\n",
      "               Section                          Product StatutoryClass  \\\n",
      "0  Motor Comprehensive  Mobility Metered Taxis: Monthly     Commercial   \n",
      "1  Motor Comprehensive  Mobility Metered Taxis: Monthly     Commercial   \n",
      "2  Motor Comprehensive  Mobility Metered Taxis: Monthly     Commercial   \n",
      "3  Motor Comprehensive  Mobility Metered Taxis: Monthly     Commercial   \n",
      "4  Motor Comprehensive  Mobility Metered Taxis: Monthly     Commercial   \n",
      "5  Motor Comprehensive  Mobility Metered Taxis: Monthly     Commercial   \n",
      "6  Motor Comprehensive  Mobility Metered Taxis: Monthly     Commercial   \n",
      "7  Motor Comprehensive  Mobility Metered Taxis: Monthly     Commercial   \n",
      "8  Motor Comprehensive  Mobility Metered Taxis: Monthly     Commercial   \n",
      "9  Motor Comprehensive  Mobility Metered Taxis: Monthly     Commercial   \n",
      "\n",
      "  StatutoryRiskType  TotalPremium TotalClaims  \n",
      "0     IFRS Constant     21.929825         0.0  \n",
      "1     IFRS Constant     21.929825         0.0  \n",
      "2     IFRS Constant      0.000000         0.0  \n",
      "3     IFRS Constant    512.848070         0.0  \n",
      "4     IFRS Constant      0.000000         0.0  \n",
      "5     IFRS Constant      3.256435         0.0  \n",
      "6     IFRS Constant     50.474737         0.0  \n",
      "7     IFRS Constant     35.332316         0.0  \n",
      "8     IFRS Constant      0.000000         0.0  \n",
      "9     IFRS Constant      1.009474         0.0  \n",
      "\n",
      "[10 rows x 52 columns]\n"
     ]
    }
   ],
   "source": [
    "import os\n",
    "import pandas as pd\n",
    "\n",
    "# Define output folder and file name\n",
    "output_folder = os.path.join('..', 'local_storage')\n",
    "filename = 'MachineLearningRating_v3.csv'\n",
    "\n",
    "# Path to the raw .txt file\n",
    "txt_file_path = r'C:\\Users\\user\\Desktop\\Git_Folder\\AlphaCare-Insurance-Solutions-ACIS\\local_storage\\MachineLearningRating_v3_data_week3\\MachineLearningRating_v3_data_week3.txt'\n",
    "\n",
    "# Load the raw dataset (using '|' as delimiter)\n",
    "raw_dataset = pd.read_csv(txt_file_path, delimiter='|')\n",
    "\n",
    "# Create the output folder if it doesn't exist\n",
    "os.makedirs(output_folder, exist_ok=True)\n",
    "\n",
    "# Define a function to save the dataset as CSV\n",
    "def save_dataset(dataset, folder, file_name):\n",
    "    output_path = os.path.join(folder, file_name)\n",
    "    dataset.to_csv(output_path, index=False)\n",
    "    return output_path\n",
    "\n",
    "# Save the dataset and get the output path\n",
    "output_path = save_dataset(raw_dataset, output_folder, filename)\n",
    "\n",
    "# Optionally, display the first few rows to verify\n",
    "print(raw_dataset.head(10))\n"
   ]
  },
  {
   "cell_type": "code",
   "execution_count": 22,
   "metadata": {},
   "outputs": [],
   "source": [
    "# Define output folder and file name\n",
    "output_folder = os.path.join('..', 'local_storage')\n",
    "filename = 'MachineLearningRating_v3.csv'\n",
    "\n",
    "output_path = save_dataset(raw_dataset, output_folder, filename)"
   ]
  },
  {
   "cell_type": "markdown",
   "metadata": {},
   "source": [
    "## Data Understanding"
   ]
  },
  {
   "cell_type": "markdown",
   "metadata": {},
   "source": [
    "### Load Dataset"
   ]
  },
  {
   "cell_type": "code",
   "execution_count": 26,
   "metadata": {},
   "outputs": [],
   "source": [
    "# path to the CSV file\n",
    "filename = 'MachineLearningRating_v3.csv'\n",
    "path = os.path.join('..', 'local_storage', filename)\n",
    "\n",
    "# Load dataset\n",
    "insurance_raw = load_dataset(path)"
   ]
  },
  {
   "cell_type": "code",
   "execution_count": 27,
   "metadata": {},
   "outputs": [
    {
     "data": {
      "text/html": [
       "<div>\n",
       "<style scoped>\n",
       "    .dataframe tbody tr th:only-of-type {\n",
       "        vertical-align: middle;\n",
       "    }\n",
       "\n",
       "    .dataframe tbody tr th {\n",
       "        vertical-align: top;\n",
       "    }\n",
       "\n",
       "    .dataframe thead th {\n",
       "        text-align: right;\n",
       "    }\n",
       "</style>\n",
       "<table border=\"1\" class=\"dataframe\">\n",
       "  <thead>\n",
       "    <tr style=\"text-align: right;\">\n",
       "      <th></th>\n",
       "      <th>UnderwrittenCoverID</th>\n",
       "      <th>PolicyID</th>\n",
       "      <th>TransactionMonth</th>\n",
       "      <th>IsVATRegistered</th>\n",
       "      <th>Citizenship</th>\n",
       "      <th>LegalType</th>\n",
       "      <th>Title</th>\n",
       "      <th>Language</th>\n",
       "      <th>Bank</th>\n",
       "      <th>AccountType</th>\n",
       "      <th>...</th>\n",
       "      <th>ExcessSelected</th>\n",
       "      <th>CoverCategory</th>\n",
       "      <th>CoverType</th>\n",
       "      <th>CoverGroup</th>\n",
       "      <th>Section</th>\n",
       "      <th>Product</th>\n",
       "      <th>StatutoryClass</th>\n",
       "      <th>StatutoryRiskType</th>\n",
       "      <th>TotalPremium</th>\n",
       "      <th>TotalClaims</th>\n",
       "    </tr>\n",
       "  </thead>\n",
       "  <tbody>\n",
       "    <tr>\n",
       "      <th>0</th>\n",
       "      <td>145249</td>\n",
       "      <td>12827</td>\n",
       "      <td>2015-03-01 00:00:00</td>\n",
       "      <td>True</td>\n",
       "      <td></td>\n",
       "      <td>Close Corporation</td>\n",
       "      <td>Mr</td>\n",
       "      <td>English</td>\n",
       "      <td>First National Bank</td>\n",
       "      <td>Current account</td>\n",
       "      <td>...</td>\n",
       "      <td>Mobility - Windscreen</td>\n",
       "      <td>Windscreen</td>\n",
       "      <td>Windscreen</td>\n",
       "      <td>Comprehensive - Taxi</td>\n",
       "      <td>Motor Comprehensive</td>\n",
       "      <td>Mobility Metered Taxis: Monthly</td>\n",
       "      <td>Commercial</td>\n",
       "      <td>IFRS Constant</td>\n",
       "      <td>21.929825</td>\n",
       "      <td>0.0</td>\n",
       "    </tr>\n",
       "    <tr>\n",
       "      <th>1</th>\n",
       "      <td>145249</td>\n",
       "      <td>12827</td>\n",
       "      <td>2015-05-01 00:00:00</td>\n",
       "      <td>True</td>\n",
       "      <td></td>\n",
       "      <td>Close Corporation</td>\n",
       "      <td>Mr</td>\n",
       "      <td>English</td>\n",
       "      <td>First National Bank</td>\n",
       "      <td>Current account</td>\n",
       "      <td>...</td>\n",
       "      <td>Mobility - Windscreen</td>\n",
       "      <td>Windscreen</td>\n",
       "      <td>Windscreen</td>\n",
       "      <td>Comprehensive - Taxi</td>\n",
       "      <td>Motor Comprehensive</td>\n",
       "      <td>Mobility Metered Taxis: Monthly</td>\n",
       "      <td>Commercial</td>\n",
       "      <td>IFRS Constant</td>\n",
       "      <td>21.929825</td>\n",
       "      <td>0.0</td>\n",
       "    </tr>\n",
       "    <tr>\n",
       "      <th>2</th>\n",
       "      <td>145249</td>\n",
       "      <td>12827</td>\n",
       "      <td>2015-07-01 00:00:00</td>\n",
       "      <td>True</td>\n",
       "      <td></td>\n",
       "      <td>Close Corporation</td>\n",
       "      <td>Mr</td>\n",
       "      <td>English</td>\n",
       "      <td>First National Bank</td>\n",
       "      <td>Current account</td>\n",
       "      <td>...</td>\n",
       "      <td>Mobility - Windscreen</td>\n",
       "      <td>Windscreen</td>\n",
       "      <td>Windscreen</td>\n",
       "      <td>Comprehensive - Taxi</td>\n",
       "      <td>Motor Comprehensive</td>\n",
       "      <td>Mobility Metered Taxis: Monthly</td>\n",
       "      <td>Commercial</td>\n",
       "      <td>IFRS Constant</td>\n",
       "      <td>0.000000</td>\n",
       "      <td>0.0</td>\n",
       "    </tr>\n",
       "    <tr>\n",
       "      <th>3</th>\n",
       "      <td>145255</td>\n",
       "      <td>12827</td>\n",
       "      <td>2015-05-01 00:00:00</td>\n",
       "      <td>True</td>\n",
       "      <td></td>\n",
       "      <td>Close Corporation</td>\n",
       "      <td>Mr</td>\n",
       "      <td>English</td>\n",
       "      <td>First National Bank</td>\n",
       "      <td>Current account</td>\n",
       "      <td>...</td>\n",
       "      <td>Mobility - Metered Taxis - R2000</td>\n",
       "      <td>Own damage</td>\n",
       "      <td>Own Damage</td>\n",
       "      <td>Comprehensive - Taxi</td>\n",
       "      <td>Motor Comprehensive</td>\n",
       "      <td>Mobility Metered Taxis: Monthly</td>\n",
       "      <td>Commercial</td>\n",
       "      <td>IFRS Constant</td>\n",
       "      <td>512.848070</td>\n",
       "      <td>0.0</td>\n",
       "    </tr>\n",
       "    <tr>\n",
       "      <th>4</th>\n",
       "      <td>145255</td>\n",
       "      <td>12827</td>\n",
       "      <td>2015-07-01 00:00:00</td>\n",
       "      <td>True</td>\n",
       "      <td></td>\n",
       "      <td>Close Corporation</td>\n",
       "      <td>Mr</td>\n",
       "      <td>English</td>\n",
       "      <td>First National Bank</td>\n",
       "      <td>Current account</td>\n",
       "      <td>...</td>\n",
       "      <td>Mobility - Metered Taxis - R2000</td>\n",
       "      <td>Own damage</td>\n",
       "      <td>Own Damage</td>\n",
       "      <td>Comprehensive - Taxi</td>\n",
       "      <td>Motor Comprehensive</td>\n",
       "      <td>Mobility Metered Taxis: Monthly</td>\n",
       "      <td>Commercial</td>\n",
       "      <td>IFRS Constant</td>\n",
       "      <td>0.000000</td>\n",
       "      <td>0.0</td>\n",
       "    </tr>\n",
       "  </tbody>\n",
       "</table>\n",
       "<p>5 rows × 52 columns</p>\n",
       "</div>"
      ],
      "text/plain": [
       "   UnderwrittenCoverID  PolicyID     TransactionMonth  IsVATRegistered  \\\n",
       "0               145249     12827  2015-03-01 00:00:00             True   \n",
       "1               145249     12827  2015-05-01 00:00:00             True   \n",
       "2               145249     12827  2015-07-01 00:00:00             True   \n",
       "3               145255     12827  2015-05-01 00:00:00             True   \n",
       "4               145255     12827  2015-07-01 00:00:00             True   \n",
       "\n",
       "  Citizenship          LegalType Title Language                 Bank  \\\n",
       "0              Close Corporation    Mr  English  First National Bank   \n",
       "1              Close Corporation    Mr  English  First National Bank   \n",
       "2              Close Corporation    Mr  English  First National Bank   \n",
       "3              Close Corporation    Mr  English  First National Bank   \n",
       "4              Close Corporation    Mr  English  First National Bank   \n",
       "\n",
       "       AccountType  ...                    ExcessSelected CoverCategory  \\\n",
       "0  Current account  ...             Mobility - Windscreen    Windscreen   \n",
       "1  Current account  ...             Mobility - Windscreen    Windscreen   \n",
       "2  Current account  ...             Mobility - Windscreen    Windscreen   \n",
       "3  Current account  ...  Mobility - Metered Taxis - R2000    Own damage   \n",
       "4  Current account  ...  Mobility - Metered Taxis - R2000    Own damage   \n",
       "\n",
       "    CoverType            CoverGroup              Section  \\\n",
       "0  Windscreen  Comprehensive - Taxi  Motor Comprehensive   \n",
       "1  Windscreen  Comprehensive - Taxi  Motor Comprehensive   \n",
       "2  Windscreen  Comprehensive - Taxi  Motor Comprehensive   \n",
       "3  Own Damage  Comprehensive - Taxi  Motor Comprehensive   \n",
       "4  Own Damage  Comprehensive - Taxi  Motor Comprehensive   \n",
       "\n",
       "                           Product StatutoryClass StatutoryRiskType  \\\n",
       "0  Mobility Metered Taxis: Monthly     Commercial     IFRS Constant   \n",
       "1  Mobility Metered Taxis: Monthly     Commercial     IFRS Constant   \n",
       "2  Mobility Metered Taxis: Monthly     Commercial     IFRS Constant   \n",
       "3  Mobility Metered Taxis: Monthly     Commercial     IFRS Constant   \n",
       "4  Mobility Metered Taxis: Monthly     Commercial     IFRS Constant   \n",
       "\n",
       "   TotalPremium TotalClaims  \n",
       "0     21.929825         0.0  \n",
       "1     21.929825         0.0  \n",
       "2      0.000000         0.0  \n",
       "3    512.848070         0.0  \n",
       "4      0.000000         0.0  \n",
       "\n",
       "[5 rows x 52 columns]"
      ]
     },
     "metadata": {},
     "output_type": "display_data"
    }
   ],
   "source": [
    "display(insurance_raw.head(5))"
   ]
  },
  {
   "cell_type": "markdown",
   "metadata": {},
   "source": [
    "### Data Structure"
   ]
  },
  {
   "cell_type": "code",
   "execution_count": 29,
   "metadata": {},
   "outputs": [
    {
     "name": "stdout",
     "output_type": "stream",
     "text": [
      "<class 'pandas.core.frame.DataFrame'>\n",
      "RangeIndex: 1000098 entries, 0 to 1000097\n",
      "Data columns (total 52 columns):\n",
      " #   Column                    Non-Null Count    Dtype  \n",
      "---  ------                    --------------    -----  \n",
      " 0   UnderwrittenCoverID       1000098 non-null  int64  \n",
      " 1   PolicyID                  1000098 non-null  int64  \n",
      " 2   TransactionMonth          1000098 non-null  object \n",
      " 3   IsVATRegistered           1000098 non-null  bool   \n",
      " 4   Citizenship               1000098 non-null  object \n",
      " 5   LegalType                 1000098 non-null  object \n",
      " 6   Title                     1000098 non-null  object \n",
      " 7   Language                  1000098 non-null  object \n",
      " 8   Bank                      854137 non-null   object \n",
      " 9   AccountType               959866 non-null   object \n",
      " 10  MaritalStatus             991839 non-null   object \n",
      " 11  Gender                    990562 non-null   object \n",
      " 12  Country                   1000098 non-null  object \n",
      " 13  Province                  1000098 non-null  object \n",
      " 14  PostalCode                1000098 non-null  int64  \n",
      " 15  MainCrestaZone            1000098 non-null  object \n",
      " 16  SubCrestaZone             1000098 non-null  object \n",
      " 17  ItemType                  1000098 non-null  object \n",
      " 18  mmcode                    999546 non-null   float64\n",
      " 19  VehicleType               999546 non-null   object \n",
      " 20  RegistrationYear          1000098 non-null  int64  \n",
      " 21  make                      999546 non-null   object \n",
      " 22  Model                     999546 non-null   object \n",
      " 23  Cylinders                 999546 non-null   float64\n",
      " 24  cubiccapacity             999546 non-null   float64\n",
      " 25  kilowatts                 999546 non-null   float64\n",
      " 26  bodytype                  999546 non-null   object \n",
      " 27  NumberOfDoors             999546 non-null   float64\n",
      " 28  VehicleIntroDate          999546 non-null   object \n",
      " 29  CustomValueEstimate       220456 non-null   float64\n",
      " 30  AlarmImmobiliser          1000098 non-null  object \n",
      " 31  TrackingDevice            1000098 non-null  object \n",
      " 32  CapitalOutstanding        1000096 non-null  object \n",
      " 33  NewVehicle                846803 non-null   object \n",
      " 34  WrittenOff                358197 non-null   object \n",
      " 35  Rebuilt                   358197 non-null   object \n",
      " 36  Converted                 358197 non-null   object \n",
      " 37  CrossBorder               698 non-null      object \n",
      " 38  NumberOfVehiclesInFleet   0 non-null        float64\n",
      " 39  SumInsured                1000098 non-null  float64\n",
      " 40  TermFrequency             1000098 non-null  object \n",
      " 41  CalculatedPremiumPerTerm  1000098 non-null  float64\n",
      " 42  ExcessSelected            1000098 non-null  object \n",
      " 43  CoverCategory             1000098 non-null  object \n",
      " 44  CoverType                 1000098 non-null  object \n",
      " 45  CoverGroup                1000098 non-null  object \n",
      " 46  Section                   1000098 non-null  object \n",
      " 47  Product                   1000098 non-null  object \n",
      " 48  StatutoryClass            1000098 non-null  object \n",
      " 49  StatutoryRiskType         1000098 non-null  object \n",
      " 50  TotalPremium              1000098 non-null  float64\n",
      " 51  TotalClaims               1000098 non-null  float64\n",
      "dtypes: bool(1), float64(11), int64(4), object(36)\n",
      "memory usage: 390.1+ MB\n"
     ]
    },
    {
     "data": {
      "text/plain": [
       "None"
      ]
     },
     "metadata": {},
     "output_type": "display_data"
    }
   ],
   "source": [
    "display(insurance_raw.info())"
   ]
  },
  {
   "cell_type": "markdown",
   "metadata": {},
   "source": [
    "## Data cleaning and Preparation"
   ]
  },
  {
   "cell_type": "markdown",
   "metadata": {},
   "source": [
    "### Format Column Data Types"
   ]
  },
  {
   "cell_type": "code",
   "execution_count": 30,
   "metadata": {},
   "outputs": [],
   "source": [
    "formatted_data = format_data(insurance_raw)"
   ]
  },
  {
   "cell_type": "code",
   "execution_count": 31,
   "metadata": {},
   "outputs": [
    {
     "data": {
      "text/plain": [
       "UnderwrittenCoverID                  int64\n",
       "PolicyID                             int64\n",
       "TransactionMonth            datetime64[ns]\n",
       "IsVATRegistered                       bool\n",
       "Citizenship                         object\n",
       "LegalType                           object\n",
       "Title                               object\n",
       "Language                            object\n",
       "Bank                                object\n",
       "AccountType                         object\n",
       "MaritalStatus                       object\n",
       "Gender                              object\n",
       "Country                             object\n",
       "Province                            object\n",
       "PostalCode                           int64\n",
       "MainCrestaZone                      object\n",
       "SubCrestaZone                       object\n",
       "ItemType                            object\n",
       "mmcode                             float64\n",
       "VehicleType                         object\n",
       "RegistrationYear                     int64\n",
       "make                                object\n",
       "Model                               object\n",
       "Cylinders                          float64\n",
       "cubiccapacity                      float64\n",
       "kilowatts                          float64\n",
       "bodytype                            object\n",
       "NumberOfDoors                      float64\n",
       "VehicleIntroDate                    object\n",
       "CustomValueEstimate                float64\n",
       "AlarmImmobiliser                    object\n",
       "TrackingDevice                      object\n",
       "CapitalOutstanding                  object\n",
       "NewVehicle                          object\n",
       "WrittenOff                          object\n",
       "Rebuilt                             object\n",
       "Converted                           object\n",
       "CrossBorder                         object\n",
       "NumberOfVehiclesInFleet            float64\n",
       "SumInsured                         float64\n",
       "TermFrequency                       object\n",
       "CalculatedPremiumPerTerm           float64\n",
       "ExcessSelected                      object\n",
       "CoverCategory                       object\n",
       "CoverType                           object\n",
       "CoverGroup                          object\n",
       "Section                             object\n",
       "Product                             object\n",
       "StatutoryClass                      object\n",
       "StatutoryRiskType                   object\n",
       "TotalPremium                       float64\n",
       "TotalClaims                        float64\n",
       "dtype: object"
      ]
     },
     "metadata": {},
     "output_type": "display_data"
    }
   ],
   "source": [
    "display(formatted_data.dtypes)"
   ]
  },
  {
   "cell_type": "markdown",
   "metadata": {},
   "source": [
    "### Find Missing Values "
   ]
  },
  {
   "cell_type": "code",
   "execution_count": 32,
   "metadata": {},
   "outputs": [],
   "source": [
    "missing_values = find_missing_values(formatted_data)"
   ]
  },
  {
   "cell_type": "code",
   "execution_count": 33,
   "metadata": {},
   "outputs": [
    {
     "data": {
      "text/plain": [
       "UnderwrittenCoverID               0\n",
       "PolicyID                          0\n",
       "TransactionMonth                  0\n",
       "IsVATRegistered                   0\n",
       "Citizenship                       0\n",
       "LegalType                         0\n",
       "Title                             0\n",
       "Language                          0\n",
       "Bank                              0\n",
       "AccountType                       0\n",
       "MaritalStatus                     0\n",
       "Gender                            0\n",
       "Country                           0\n",
       "Province                          0\n",
       "PostalCode                        0\n",
       "MainCrestaZone                    0\n",
       "SubCrestaZone                     0\n",
       "ItemType                          0\n",
       "mmcode                          552\n",
       "VehicleType                       0\n",
       "RegistrationYear                  0\n",
       "make                              0\n",
       "Model                             0\n",
       "Cylinders                       552\n",
       "cubiccapacity                   552\n",
       "kilowatts                       552\n",
       "bodytype                          0\n",
       "NumberOfDoors                   552\n",
       "VehicleIntroDate                  0\n",
       "CustomValueEstimate          779642\n",
       "AlarmImmobiliser                  0\n",
       "TrackingDevice                    0\n",
       "CapitalOutstanding                0\n",
       "NewVehicle                        0\n",
       "WrittenOff                        0\n",
       "Rebuilt                           0\n",
       "Converted                         0\n",
       "CrossBorder                       0\n",
       "NumberOfVehiclesInFleet     1000098\n",
       "SumInsured                        0\n",
       "TermFrequency                     0\n",
       "CalculatedPremiumPerTerm          0\n",
       "ExcessSelected                    0\n",
       "CoverCategory                     0\n",
       "CoverType                         0\n",
       "CoverGroup                        0\n",
       "Section                           0\n",
       "Product                           0\n",
       "StatutoryClass                    0\n",
       "StatutoryRiskType                 0\n",
       "TotalPremium                      0\n",
       "TotalClaims                       0\n",
       "dtype: int64"
      ]
     },
     "metadata": {},
     "output_type": "display_data"
    }
   ],
   "source": [
    "display(missing_values)"
   ]
  },
  {
   "cell_type": "markdown",
   "metadata": {},
   "source": [
    "### Save Cleaned Dataset"
   ]
  },
  {
   "cell_type": "code",
   "execution_count": 34,
   "metadata": {},
   "outputs": [],
   "source": [
    "# Define output folder and file name\n",
    "output_folder = os.path.join('..', 'local_storage')\n",
    "filename = 'cleaned_MachineLearningRating_v3.csv'\n",
    "\n",
    "output_path = save_dataset(formatted_data, output_folder, filename)"
   ]
  }
 ],
 "metadata": {
  "kernelspec": {
   "display_name": "Python 3",
   "language": "python",
   "name": "python3"
  },
  "language_info": {
   "codemirror_mode": {
    "name": "ipython",
    "version": 3
   },
   "file_extension": ".py",
   "mimetype": "text/x-python",
   "name": "python",
   "nbconvert_exporter": "python",
   "pygments_lexer": "ipython3",
   "version": "3.12.1"
  }
 },
 "nbformat": 4,
 "nbformat_minor": 2
}
